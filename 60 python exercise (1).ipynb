{
 "cells": [
  {
   "cell_type": "markdown",
   "id": "759d04ba",
   "metadata": {},
   "source": [
    "**1-Write a Python program to calculate the length of a string using 2 ways"
   ]
  },
  {
   "cell_type": "code",
   "execution_count": 2,
   "id": "e434c950",
   "metadata": {},
   "outputs": [
    {
     "name": "stdout",
     "output_type": "stream",
     "text": [
      "Enter a string: tasneem\n",
      "Length of the input string is: 7\n"
     ]
    }
   ],
   "source": [
    "str = input(\"Enter a string: \")\n",
    "counter = 0\n",
    "for s in str:\n",
    "      counter = counter+1\n",
    "print(\"Length of the input string is:\", counter)"
   ]
  },
  {
   "cell_type": "code",
   "execution_count": 3,
   "id": "7a2dfa32",
   "metadata": {},
   "outputs": [
    {
     "name": "stdout",
     "output_type": "stream",
     "text": [
      "Enter a string: tasneem ibrahim\n",
      "Length of the input string is: 15\n"
     ]
    }
   ],
   "source": [
    "str = input(\"Enter a string: \")\n",
    "print(\"Length of the input string is:\", len(str))"
   ]
  },
  {
   "cell_type": "markdown",
   "id": "d7cc9da7",
   "metadata": {},
   "source": [
    "**2-Write a Python program to get a string made of the first 2 and last 2 characters of a given string. If the string length is less than 2, return the empty string instead (\"##Sample String : 'w3resource'\n",
    "Expected Result : 'w3ce'\n",
    "##Sample String : 'w3'\n",
    "Expected Result : 'w3w3'\n",
    "##Sample String : ' w'\n",
    "Expected Result : Empty String)"
   ]
  },
  {
   "cell_type": "code",
   "execution_count": 54,
   "id": "dafa9dd8",
   "metadata": {},
   "outputs": [
    {
     "name": "stdout",
     "output_type": "stream",
     "text": [
      "w3ce\n",
      "w3w3\n"
     ]
    }
   ],
   "source": [
    "def stringends(str):\n",
    "  if len(str) < 2:\n",
    "    return ''\n",
    "\n",
    "  return str[0:2] + str[-2:]\n",
    "\n",
    "print(stringends('w3force'))\n",
    "print(stringends('w3'))"
   ]
  },
  {
   "cell_type": "markdown",
   "id": "1534f956",
   "metadata": {},
   "source": [
    "**3-Write a Python program to add 'ing' at the end of a given string (length should be at least 3). If the given string already ends with 'ing', add 'ly' instead. If the string length of the given string is less than 3, leave it unchanged. (Sample String : 'abc'\n",
    "Expected Result : 'abcing')"
   ]
  },
  {
   "cell_type": "code",
   "execution_count": 1,
   "id": "7ff8cec4",
   "metadata": {},
   "outputs": [
    {
     "name": "stdout",
     "output_type": "stream",
     "text": [
      "tasneem\n",
      "tasneeming\n"
     ]
    }
   ],
   "source": [
    "name = input()\n",
    "if len(name) < 3:\n",
    "    print(name)\n",
    "else:\n",
    "    if name[-3:] ==\"ing\":\n",
    "        print(name +\"ly\")\n",
    "    else:\n",
    "        print(name+\"ing\")\n",
    "        "
   ]
  },
  {
   "cell_type": "markdown",
   "id": "1c0a6627",
   "metadata": {},
   "source": [
    "**4-Write a Python function that takes a list of words and return the longest word and the length of the longest one\n",
    "(Longest word: Exercises\n",
    "Length of the longest word: 9)"
   ]
  },
  {
   "cell_type": "code",
   "execution_count": 13,
   "id": "397341d9",
   "metadata": {},
   "outputs": [
    {
     "name": "stdout",
     "output_type": "stream",
     "text": [
      "Longest word:  Abd El Fatah\n",
      "Length of the longest word:  12\n"
     ]
    }
   ],
   "source": [
    "def findlongestword(wordslist):\n",
    "    wordlen = []\n",
    "    for n in wordslist:\n",
    "        wordlen.append((len(n), n))\n",
    "    wordlen.sort()\n",
    "    return wordlen[-1][0], wordlen[-1][1]\n",
    "result = find_longest_word([\"Tasneem\", \"Ibrahim\", \"Abd El Fatah\"])\n",
    "print(\"Longest word: \",result[1])\n",
    "print(\"Length of the longest word: \",result[0])"
   ]
  },
  {
   "cell_type": "markdown",
   "id": "53a03a6a",
   "metadata": {},
   "source": [
    "**5-Write a Python program to change a given string to a newly string where the first and last chars have been exchanged using 2 ways (Sample String:abca  Expected Result:ebce)"
   ]
  },
  {
   "cell_type": "code",
   "execution_count": null,
   "id": "fd327d2a",
   "metadata": {},
   "outputs": [],
   "source": []
  },
  {
   "cell_type": "code",
   "execution_count": null,
   "id": "285788b4",
   "metadata": {},
   "outputs": [],
   "source": []
  },
  {
   "cell_type": "markdown",
   "id": "25f89808",
   "metadata": {},
   "source": [
    "**6-Write a Python program to remove characters that have odd index values in a given string (Sample String:abca Expected Result:ac)"
   ]
  },
  {
   "cell_type": "code",
   "execution_count": 24,
   "id": "05959bd7",
   "metadata": {},
   "outputs": [
    {
     "name": "stdout",
     "output_type": "stream",
     "text": [
      "Please Enter your Own String : abca\n",
      "Original String :   abca\n",
      "Final String :  ac\n"
     ]
    }
   ],
   "source": [
    "def newString(str1):\n",
    "    str2 = ''\n",
    "\n",
    "    for i in range(len(str1)):\n",
    "        if(i % 2 == 0):\n",
    "            str2 = str2 + str1[i]\n",
    "    return str2\n",
    "\n",
    "string = input(\"Please Enter your Own String : \")       \n",
    "print(\"Original String :  \", string)\n",
    "print(\"Final String : \", newString(string))"
   ]
  },
  {
   "cell_type": "markdown",
   "id": "eb16e898",
   "metadata": {},
   "source": [
    "**7-Write a Python program to count the occurrences of each word in a given sentence (Sample String:amr and ahmed are frindes but amr is the tallest Expected Result:2)"
   ]
  },
  {
   "cell_type": "code",
   "execution_count": 28,
   "id": "01ce6cf5",
   "metadata": {},
   "outputs": [
    {
     "name": "stdout",
     "output_type": "stream",
     "text": [
      "{'tasneem': 2, 'and': 3, 'arij': 2, 'afnan': 2, 'are': 2, 'frinds': 1, 'but': 1, 'the': 1, 'tallest': 1, 'than': 1}\n"
     ]
    }
   ],
   "source": [
    "def word_count(str):\n",
    "    counts = dict()\n",
    "    words = str.split()\n",
    "\n",
    "    for word in words:\n",
    "        if word in counts:\n",
    "            counts[word] += 1\n",
    "        else:\n",
    "            counts[word] = 1\n",
    "\n",
    "    return counts\n",
    "\n",
    "print( word_count('tasneem and arij and afnan are frinds but afnan and tasneem are the tallest than arij'))\n"
   ]
  },
  {
   "cell_type": "markdown",
   "id": "4e8125f1",
   "metadata": {},
   "source": [
    "**8-Write a Python script that takes input from the user and displays that input back in upper and lower cases"
   ]
  },
  {
   "cell_type": "code",
   "execution_count": 31,
   "id": "66c8f778",
   "metadata": {},
   "outputs": [
    {
     "name": "stdout",
     "output_type": "stream",
     "text": [
      "What's your favourite language? english\n",
      "My favourite language is  ENGLISH\n",
      "My favourite language is  english\n"
     ]
    }
   ],
   "source": [
    "user_input = input(\"What's your favourite language? \")\n",
    "print(\"My favourite language is \", user_input.upper())\n",
    "print(\"My favourite language is \", user_input.lower())"
   ]
  },
  {
   "cell_type": "markdown",
   "id": "fcd68aa1",
   "metadata": {},
   "source": [
    "**9-Write a Python function to reverse a string if its length is a multiple of 4"
   ]
  },
  {
   "cell_type": "code",
   "execution_count": 33,
   "id": "0671a931",
   "metadata": {},
   "outputs": [
    {
     "name": "stdout",
     "output_type": "stream",
     "text": [
      "omen\n",
      "tasneem\n"
     ]
    }
   ],
   "source": [
    "def reverse_string(str1):\n",
    "    if len(str1) % 4 == 0:\n",
    "       return ''.join(reversed(str1))\n",
    "    return str1\n",
    "\n",
    "print(reverse_string('nemo'))\n",
    "print(reverse_string('tasneem'))"
   ]
  },
  {
   "cell_type": "markdown",
   "id": "b577c68d",
   "metadata": {},
   "source": [
    "**10- Write a Python program to remove a newline in Python"
   ]
  },
  {
   "cell_type": "code",
   "execution_count": 42,
   "id": "e0c6525a",
   "metadata": {},
   "outputs": [
    {
     "name": "stdout",
     "output_type": "stream",
     "text": [
      "tasneem ibrahim\n",
      "\n",
      "tasneem ibrahim\n"
     ]
    }
   ],
   "source": [
    "str1='tasneem ibrahim\\n'\n",
    "print(str1)\n",
    "print(str1.rstrip())"
   ]
  },
  {
   "cell_type": "markdown",
   "id": "80db5ae0",
   "metadata": {},
   "source": [
    "**11-Write a Python program to check whether a string starts with specified characters"
   ]
  },
  {
   "cell_type": "code",
   "execution_count": 58,
   "id": "0cc4e03e",
   "metadata": {},
   "outputs": [
    {
     "name": "stdout",
     "output_type": "stream",
     "text": [
      "True\n"
     ]
    }
   ],
   "source": [
    "string = \"whether.com\"\n",
    "print(string.startswith(\"whe\"))"
   ]
  },
  {
   "cell_type": "markdown",
   "id": "593a68db",
   "metadata": {},
   "source": [
    "**12- Write a Python program to add prefix text to all of the lines in a string"
   ]
  },
  {
   "cell_type": "code",
   "execution_count": 8,
   "id": "d2e46ada",
   "metadata": {},
   "outputs": [
    {
     "name": "stdout",
     "output_type": "stream",
     "text": [
      "tasneem is amazing\n",
      "arij is a doctor\n",
      "afnan is the best\n",
      "\n"
     ]
    }
   ],
   "source": [
    "name = '''tasneem is amazing\n",
    "arij is a doctor\n",
    "afnan is the best\n",
    "'''\n",
    "print(name)"
   ]
  },
  {
   "cell_type": "markdown",
   "id": "86fa1543",
   "metadata": {},
   "source": [
    "**13-Write a Python program to print the following numbers up to 2 decimal places"
   ]
  },
  {
   "cell_type": "code",
   "execution_count": 13,
   "id": "cd4a9d89",
   "metadata": {},
   "outputs": [
    {
     "data": {
      "text/plain": [
       "2.65"
      ]
     },
     "execution_count": 13,
     "metadata": {},
     "output_type": "execute_result"
    }
   ],
   "source": [
    "number = 2.648485\n",
    "round(number, 2)"
   ]
  },
  {
   "cell_type": "markdown",
   "id": "452c0ab0",
   "metadata": {},
   "source": [
    "**14-Write a Python program to print the following numbers up to 2 decimal places with a sign"
   ]
  },
  {
   "cell_type": "code",
   "execution_count": null,
   "id": "73e82479",
   "metadata": {},
   "outputs": [],
   "source": []
  },
  {
   "cell_type": "markdown",
   "id": "32b1811a",
   "metadata": {},
   "source": [
    "**15-Write a Python program to display a number with a comma separator"
   ]
  },
  {
   "cell_type": "code",
   "execution_count": 14,
   "id": "f30fc0b6",
   "metadata": {},
   "outputs": [
    {
     "data": {
      "text/plain": [
       "'2.3'"
      ]
     },
     "execution_count": 14,
     "metadata": {},
     "output_type": "execute_result"
    }
   ],
   "source": [
    "number =2.3\n",
    "newnumber = str(number)\n",
    "newnumber.replace(\",\" , \",\")"
   ]
  },
  {
   "cell_type": "markdown",
   "id": "0477f487",
   "metadata": {},
   "source": [
    "**16-Write a Python program to reverse a string using 2 ways"
   ]
  },
  {
   "cell_type": "code",
   "execution_count": 46,
   "id": "aa8beec8",
   "metadata": {},
   "outputs": [
    {
     "name": "stdout",
     "output_type": "stream",
     "text": [
      "miharbi meensat\n"
     ]
    }
   ],
   "source": [
    "txt = \"tasneem ibrahim\"[::-1]\n",
    "print(txt)"
   ]
  },
  {
   "cell_type": "markdown",
   "id": "5afc3166",
   "metadata": {},
   "source": [
    " **17-Write a Python program to count repeated characters in a string (hint:use dictionary)"
   ]
  },
  {
   "cell_type": "code",
   "execution_count": 47,
   "id": "515a469c",
   "metadata": {},
   "outputs": [
    {
     "name": "stdout",
     "output_type": "stream",
     "text": [
      "a 6\n",
      "  6\n",
      "h 4\n",
      "e 3\n",
      "i 3\n",
      "l 3\n",
      "t 2\n",
      "s 2\n",
      "m 2\n",
      "b 2\n",
      "r 2\n",
      "k 2\n"
     ]
    }
   ],
   "source": [
    "import collections\n",
    "str1 = 'tasneem ibrahim abd el fatah shokry khalil'\n",
    "d = collections.defaultdict(int)\n",
    "for c in str1:\n",
    "    d[c] += 1\n",
    "\n",
    "for c in sorted(d, key=d.get, reverse=True):\n",
    "  if d[c] > 1:\n",
    "      print('%s %d' % (c, d[c]))"
   ]
  },
  {
   "cell_type": "markdown",
   "id": "ae14e4e5",
   "metadata": {},
   "source": [
    "**18-Write a Python program to find the first non-repeating character in a given string"
   ]
  },
  {
   "cell_type": "code",
   "execution_count": 48,
   "id": "d73778e5",
   "metadata": {},
   "outputs": [
    {
     "name": "stdout",
     "output_type": "stream",
     "text": [
      "a\n",
      "d\n",
      "None\n"
     ]
    }
   ],
   "source": [
    "def first_non_repeating_character(str1):\n",
    "  char_order = []\n",
    "  ctr = {}\n",
    "  for c in str1:\n",
    "    if c in ctr:\n",
    "      ctr[c] += 1\n",
    "    else:\n",
    "      ctr[c] = 1 \n",
    "      char_order.append(c)\n",
    "  for c in char_order:\n",
    "    if ctr[c] == 1:\n",
    "      return c\n",
    "  return None\n",
    "\n",
    "print(first_non_repeating_character('abcdef'))\n",
    "print(first_non_repeating_character('abcabcdef'))\n",
    "print(first_non_repeating_character('aabbcc'))"
   ]
  },
  {
   "cell_type": "markdown",
   "id": "3adf5669",
   "metadata": {},
   "source": [
    "**19-Write a Python program to remove spaces from a given string"
   ]
  },
  {
   "cell_type": "code",
   "execution_count": 49,
   "id": "b4f22602",
   "metadata": {},
   "outputs": [
    {
     "name": "stdout",
     "output_type": "stream",
     "text": [
      "tasneem\n",
      "abc\n"
     ]
    }
   ],
   "source": [
    "def remove_spaces(str1):\n",
    "  str1 = str1.replace(' ','')\n",
    "  return str1\n",
    "    \n",
    "print(remove_spaces(\"t  a s  n e e m\"))\n",
    "print(remove_spaces(\"a b c\"))"
   ]
  },
  {
   "cell_type": "markdown",
   "id": "734de60c",
   "metadata": {},
   "source": [
    "**20-Write a Python program to count the number of non-empty substrings of a given string"
   ]
  },
  {
   "cell_type": "code",
   "execution_count": 59,
   "id": "ef3f2274",
   "metadata": {},
   "outputs": [
    {
     "name": "stdout",
     "output_type": "stream",
     "text": [
      "Input a string: tasneem\n",
      "Number of substrings:\n",
      "28\n"
     ]
    }
   ],
   "source": [
    "def number_of_substrings(str): \n",
    "    str_len = len(str); \n",
    "    return int(str_len * (str_len + 1) / 2); \n",
    "str1 = input(\"Input a string: \")\n",
    "print(\"Number of substrings:\") \n",
    "print(number_of_substrings(str1))"
   ]
  },
  {
   "cell_type": "markdown",
   "id": "509998e2",
   "metadata": {},
   "source": [
    "**21-write a Python program to swap first and last element of any list."
   ]
  },
  {
   "cell_type": "code",
   "execution_count": 60,
   "id": "68692d7f",
   "metadata": {},
   "outputs": [
    {
     "name": "stdout",
     "output_type": "stream",
     "text": [
      "List after swapping first and last elements: [5, 2, 3, 4, 1]\n"
     ]
    }
   ],
   "source": [
    "mylist = [1, 2, 3, 4, 5]\n",
    "\n",
    "# Swap the first and last elements of the list\n",
    "mylist[0], mylist[-1] = mylist[-1], mylist[0]\n",
    "\n",
    "print(\"List after swapping first and last elements:\", mylist)"
   ]
  },
  {
   "cell_type": "markdown",
   "id": "959e0837",
   "metadata": {},
   "source": [
    "**22-Given a list in Python and provided the positions of the elements, write a program to swap the two elements in the list. (Input : List = [23, 65, 19, 90], pos1 = 1, pos2 = 3\n",
    "Output : [19, 65, 23, 90])"
   ]
  },
  {
   "cell_type": "code",
   "execution_count": 33,
   "id": "225d8c6d",
   "metadata": {},
   "outputs": [
    {
     "name": "stdout",
     "output_type": "stream",
     "text": [
      "2\n",
      "3\n"
     ]
    },
    {
     "data": {
      "text/plain": [
       "[2, 5, 11, 8]"
      ]
     },
     "execution_count": 33,
     "metadata": {},
     "output_type": "execute_result"
    }
   ],
   "source": [
    "l = [2,5,8,11]\n",
    "pos1 = int(input())\n",
    "pos2 = int(input())\n",
    "l[pos1] , l[pos2] = l[pos2] , l[pos1]\n",
    "l"
   ]
  },
  {
   "cell_type": "code",
   "execution_count": 20,
   "id": "5f78f9d4",
   "metadata": {},
   "outputs": [
    {
     "data": {
      "text/plain": [
       "[2, 5, 11, 8]"
      ]
     },
     "execution_count": 20,
     "metadata": {},
     "output_type": "execute_result"
    }
   ],
   "source": []
  },
  {
   "cell_type": "markdown",
   "id": "66fc6682",
   "metadata": {},
   "source": [
    "**23- search for the all ways to know the length of the list"
   ]
  },
  {
   "cell_type": "code",
   "execution_count": 24,
   "id": "27ee3450",
   "metadata": {},
   "outputs": [
    {
     "name": "stdout",
     "output_type": "stream",
     "text": [
      "9\n",
      "9\n"
     ]
    }
   ],
   "source": [
    "l = [1,2,3,4,5,6,7,8,9]\n",
    "print(len(l))\n",
    "counter = 0\n",
    "for i in l : counter +=1\n",
    "print(counter)"
   ]
  },
  {
   "cell_type": "code",
   "execution_count": null,
   "id": "a1c0aa2a",
   "metadata": {},
   "outputs": [],
   "source": []
  },
  {
   "cell_type": "code",
   "execution_count": null,
   "id": "63ff8b43",
   "metadata": {},
   "outputs": [],
   "source": [
    "**24-write a Python code to find the Maximum number of list of numbers."
   ]
  },
  {
   "cell_type": "code",
   "execution_count": 25,
   "id": "15f342de",
   "metadata": {},
   "outputs": [
    {
     "data": {
      "text/plain": [
       "9"
      ]
     },
     "execution_count": 25,
     "metadata": {},
     "output_type": "execute_result"
    }
   ],
   "source": [
    "max([2,3,4,5,6,7,8,9])"
   ]
  },
  {
   "cell_type": "code",
   "execution_count": null,
   "id": "1a89b9d3",
   "metadata": {},
   "outputs": [],
   "source": [
    "**25-write a Python code to find the Minimum number of list of numbers."
   ]
  },
  {
   "cell_type": "code",
   "execution_count": 26,
   "id": "21f8cbd6",
   "metadata": {},
   "outputs": [
    {
     "data": {
      "text/plain": [
       "1"
      ]
     },
     "execution_count": 26,
     "metadata": {},
     "output_type": "execute_result"
    }
   ],
   "source": [
    "min([1,5,7,9,3,4,2])"
   ]
  },
  {
   "cell_type": "markdown",
   "id": "96822d96",
   "metadata": {},
   "source": [
    "**26-search for if an elem is existing in list"
   ]
  },
  {
   "cell_type": "code",
   "execution_count": 27,
   "id": "51ca5c9a",
   "metadata": {},
   "outputs": [
    {
     "name": "stdout",
     "output_type": "stream",
     "text": [
      "not found\n"
     ]
    }
   ],
   "source": [
    "l = [1,2,3,4,5,6,7,8,9]\n",
    "if l.count(\"tasneem\") ==0:\n",
    "    print(\"not found\")"
   ]
  },
  {
   "cell_type": "markdown",
   "id": "d9557da7",
   "metadata": {},
   "source": [
    "**27- clear python list using different ways"
   ]
  },
  {
   "cell_type": "code",
   "execution_count": 28,
   "id": "b69858a3",
   "metadata": {},
   "outputs": [
    {
     "data": {
      "text/plain": [
       "[]"
      ]
     },
     "execution_count": 28,
     "metadata": {},
     "output_type": "execute_result"
    }
   ],
   "source": [
    "l = [1,2,3,6,5,8,9]\n",
    "l.clear()\n",
    "l"
   ]
  },
  {
   "cell_type": "code",
   "execution_count": 32,
   "id": "64dfcacb",
   "metadata": {},
   "outputs": [
    {
     "data": {
      "text/plain": [
       "[]"
      ]
     },
     "execution_count": 32,
     "metadata": {},
     "output_type": "execute_result"
    }
   ],
   "source": [
    "l = [1,5,9,3,4,8,6]\n",
    "while len(l) !=0:\n",
    "    l.pop()\n",
    "l    \n",
    "    "
   ]
  },
  {
   "cell_type": "markdown",
   "id": "52160e88",
   "metadata": {},
   "source": [
    "**28-remove duplicated elements from a list"
   ]
  },
  {
   "cell_type": "code",
   "execution_count": 38,
   "id": "5e362228",
   "metadata": {},
   "outputs": [
    {
     "data": {
      "text/plain": [
       "[1, 2, 3, 5, 7, 9]"
      ]
     },
     "execution_count": 38,
     "metadata": {},
     "output_type": "execute_result"
    }
   ],
   "source": [
    "l = [1,2,3,5,9,7,1,1,1]\n",
    "l = set(l)\n",
    "l = list(l)\n",
    "l"
   ]
  },
  {
   "cell_type": "markdown",
   "id": "282337f7",
   "metadata": {},
   "source": [
    "**29-Given list values and keys list, convert these values to key value pairs in form of list of dictionaries. (Input : test_list = [“Gfg”, 3, “is”, 8], key_list = [“name”, “id”]\n",
    "Output : [{‘name’: ‘Gfg’, ‘id’: 3}, {‘name’: ‘is’, ‘id’: 8}])"
   ]
  },
  {
   "cell_type": "code",
   "execution_count": null,
   "id": "4d4e2d28",
   "metadata": {},
   "outputs": [],
   "source": [
    " keys = [name , age, salary]\n",
    "values = [\"tasneem\", 23, 5000]\n",
    "d = dict()\n",
    "for i in keys:\n",
    "    d[i] = "
   ]
  },
  {
   "cell_type": "markdown",
   "id": "c26b6e9f",
   "metadata": {},
   "source": [
    "**30-write a python program to count unique values inside a list using different ways"
   ]
  },
  {
   "cell_type": "code",
   "execution_count": 4,
   "id": "72132667",
   "metadata": {},
   "outputs": [
    {
     "name": "stdout",
     "output_type": "stream",
     "text": [
      "Count of unique values are: 6\n"
     ]
    }
   ],
   "source": [
    "input_list = [1, 2, 2, 5, 8, 4, 4, 8,9] \n",
    "empty_list = [] \n",
    "count = 0\n",
    "     \n",
    "for ele in input_list:\n",
    "    if(ele not in empty_list):\n",
    "        count += 1\n",
    "        empty_list.append(ele) \n",
    "        \n",
    "print(\"Count of unique values are:\", count)"
   ]
  },
  {
   "cell_type": "markdown",
   "id": "fed6677c",
   "metadata": {},
   "source": [
    "**31-write a python program Extract all elements with Frequency greater than K (Input : test_list = [4, 6, 4, 3, 3, 4, 3, 4, 3, 8], K = 3 \n",
    "Output : [4, 3] )"
   ]
  },
  {
   "cell_type": "code",
   "execution_count": null,
   "id": "d81f3f9d",
   "metadata": {},
   "outputs": [],
   "source": [
    "a = [4, 6, 4, 3, 3, 4, 3, 4, 8]\n",
    "k = 2\n",
    "out =  [i for i in set(a) if a.count(i) > k]\n",
    "print(k):"
   ]
  },
  {
   "cell_type": "markdown",
   "id": "caca5224",
   "metadata": {},
   "source": [
    "**32-write a python program to find the Strongest Neighbour (Input: 1 2 2 3 4 5\n",
    "Output: 2 2 3 4 5)"
   ]
  },
  {
   "cell_type": "code",
   "execution_count": 1,
   "id": "39fbd9b2",
   "metadata": {},
   "outputs": [
    {
     "name": "stdout",
     "output_type": "stream",
     "text": [
      "2 2 3 4 5 "
     ]
    }
   ],
   "source": [
    "def maximumAdjacent(arr1, n):\n",
    "    arr2 = [] \n",
    "    \n",
    "    for i in range(1, n):\n",
    "        r = max(arr1[i], arr1[i-1])\n",
    "        arr2.append(r)\n",
    "         \n",
    "    for ele in arr2 :\n",
    "        print(ele,end=\" \")\n",
    " \n",
    "if __name__ == \"__main__\" :\n",
    "  n = 6 \n",
    "  arr1 = [1,2,2,3,4,5]\n",
    "   \n",
    "\n",
    "  maximumAdjacent(arr1, n)"
   ]
  },
  {
   "cell_type": "markdown",
   "id": "a9fa8baf",
   "metadata": {},
   "source": [
    "**33-write a Python Program to print all Possible Combinations from the three Digits (Input: [1, 2, 3]\n",
    "Output:\n",
    "1 2 3 ##\n",
    "1 3 2 ##\n",
    "2 1 3 ##\n",
    "2 3 1 ##\n",
    "3 1 2 ##\n",
    "3 2 1)"
   ]
  },
  {
   "cell_type": "code",
   "execution_count": 2,
   "id": "8c520a76",
   "metadata": {},
   "outputs": [
    {
     "name": "stdout",
     "output_type": "stream",
     "text": [
      "1 2 3\n",
      "1 3 2\n",
      "2 1 3\n",
      "2 3 1\n",
      "3 1 2\n",
      "3 2 1\n"
     ]
    }
   ],
   "source": [
    "def comb(L):\n",
    "      \n",
    "    for i in range(3):\n",
    "        for j in range(3):\n",
    "            for k in range(3):\n",
    "                  \n",
    "                if (i!=j and j!=k and i!=k):\n",
    "                    print(L[i], L[j], L[k])\n",
    "                    \n",
    "comb([1, 2, 3])"
   ]
  },
  {
   "cell_type": "markdown",
   "id": "5288bb89",
   "metadata": {},
   "source": [
    "**34-write a Python program to find all the Combinations in the list with the given condition (Input: test_list = [1,2,3] \n",
    "Output: \n",
    " [1], [1, 2], [1, 2, 3], [1, 3]\n",
    " [2], [2, 3], [3])"
   ]
  },
  {
   "cell_type": "code",
   "execution_count": 4,
   "id": "59b89646",
   "metadata": {},
   "outputs": [
    {
     "name": "stdout",
     "output_type": "stream",
     "text": [
      "[1]\n",
      "[1, 2]\n",
      "[1, 2, 3]\n",
      "[1, 3]\n",
      "[2]\n",
      "[2, 3]\n",
      "[3]\n"
     ]
    }
   ],
   "source": [
    "import copy\n",
    " \n",
    "def combinations(target, data):\n",
    " \n",
    "    for i in range(len(data)):\n",
    " \n",
    "        new_lis = copy.copy(target)\n",
    "        new_data = copy.copy(data)\n",
    "#         print(new_lis, new_data)\n",
    "        new_lis.append(data[i])\n",
    "        new_data = data[i+1:]\n",
    " \n",
    "        print(new_lis)\n",
    " \n",
    "        combinations(new_lis,\n",
    "                     new_data)\n",
    " \n",
    " \n",
    "target = []\n",
    "data = [1, 2, 3]\n",
    " \n",
    "combinations(target, data)"
   ]
  },
  {
   "cell_type": "markdown",
   "id": "39973705",
   "metadata": {},
   "source": [
    "**35-write a Python program to get all unique combinations of two Lists (List_1 = [\"a\",\"b\"]\n",
    "List_2 = [1,2]\n",
    "Unique_combination = [[('a',1),('b',2)],[('a',2),('b',1)]] )"
   ]
  },
  {
   "cell_type": "code",
   "execution_count": 5,
   "id": "8c4ba22b",
   "metadata": {},
   "outputs": [
    {
     "name": "stdout",
     "output_type": "stream",
     "text": [
      "[[('b', 1), ('c', 1), ('d', 1)], [('b', 1), ('c', 1), ('d', 4)], [('b', 1), ('c', 1), ('d', 9)], [('b', 1), ('c', 4), ('d', 1)], [('b', 1), ('c', 4), ('d', 4)], [('b', 1), ('c', 4), ('d', 9)], [('b', 1), ('c', 9), ('d', 1)], [('b', 1), ('c', 9), ('d', 4)], [('b', 1), ('c', 9), ('d', 9)], [('b', 4), ('c', 1), ('d', 1)], [('b', 4), ('c', 1), ('d', 4)], [('b', 4), ('c', 1), ('d', 9)], [('b', 4), ('c', 4), ('d', 1)], [('b', 4), ('c', 4), ('d', 4)], [('b', 4), ('c', 4), ('d', 9)], [('b', 4), ('c', 9), ('d', 1)], [('b', 4), ('c', 9), ('d', 4)], [('b', 4), ('c', 9), ('d', 9)], [('b', 9), ('c', 1), ('d', 1)], [('b', 9), ('c', 1), ('d', 4)], [('b', 9), ('c', 1), ('d', 9)], [('b', 9), ('c', 4), ('d', 1)], [('b', 9), ('c', 4), ('d', 4)], [('b', 9), ('c', 4), ('d', 9)], [('b', 9), ('c', 9), ('d', 1)], [('b', 9), ('c', 9), ('d', 4)], [('b', 9), ('c', 9), ('d', 9)]]\n"
     ]
    }
   ],
   "source": [
    "import itertools\n",
    "from itertools import product\n",
    "list_1 = [\"b\",\"c\",\"d\"]\n",
    "list_2 = [1,4,9]\n",
    "unique_combinations = []\n",
    "unique_combinations = list(list(zip(list_1, element))\n",
    "      for element in product(list_2, repeat = len(list_1)))\n",
    "print(unique_combinations)"
   ]
  },
  {
   "cell_type": "markdown",
   "id": "25199af5",
   "metadata": {},
   "source": [
    "**36-Remove all the occurrences of an element from a list in Python (Input : 1 1 2 3 4 5 1 2 1 \n",
    "\n",
    "**Output : 2 3 4 5 2)"
   ]
  },
  {
   "cell_type": "code",
   "execution_count": 10,
   "id": "6dc4c2ba",
   "metadata": {},
   "outputs": [
    {
     "name": "stdout",
     "output_type": "stream",
     "text": [
      "(8,) has occurred 0 times\n"
     ]
    }
   ],
   "source": [
    "def countX(lst, x):\n",
    "    count = 0\n",
    "    for ele in lst:\n",
    "        if (ele == x):\n",
    "            count = count + 1\n",
    "    return count\n",
    "lst = [1,1,2,3,4,5,1,2,1]\n",
    "x = 8,\n",
    "print('{} has occurred {} times'.format(x,countX(lst, x)))"
   ]
  },
  {
   "cell_type": "markdown",
   "id": "bf1a3c93",
   "metadata": {},
   "source": [
    "**37-write a python program to Replace index elements with elements in Other List (The original list 1 is : [‘Gfg’, ‘is’, ‘best’] The original list 2 is : [0, 1, 2, 1, 0, 0, 0, 2, 1, 1, 2, 0] The lists after index elements replacements is : [‘Gfg’, ‘is’, ‘best’, ‘is’, ‘Gfg’, ‘Gfg’, ‘Gfg’, ‘best’, ‘is’, ‘is’, ‘best’, ‘Gfg’])"
   ]
  },
  {
   "cell_type": "code",
   "execution_count": 11,
   "id": "fdd66a71",
   "metadata": {},
   "outputs": [
    {
     "name": "stdout",
     "output_type": "stream",
     "text": [
      "The original list 1 is : ['Gfg', 'is', 'best']\n",
      "The original list 2 is : [0, 1, 2, 1, 0, 0, 0, 2, 1, 1, 2, 0]\n",
      "The lists after index elements replacements is : ['Gfg', 'is', 'best', 'is', 'Gfg', 'Gfg', 'Gfg', 'best', 'is', 'is', 'best', 'Gfg']\n"
     ]
    }
   ],
   "source": [
    "test_list1 = ['Gfg', 'is', 'best']\n",
    "test_list2 = [0, 1, 2, 1, 0, 0, 0, 2, 1, 1, 2, 0]\n",
    "print(\"The original list 1 is : \" + str(test_list1))\n",
    "print(\"The original list 2 is : \" + str(test_list2))\n",
    "res = [test_list1[idx] for idx in test_list2]\n",
    "print (\"The lists after index elements replacements is : \" + str(res))"
   ]
  },
  {
   "cell_type": "markdown",
   "id": "af0f56e8",
   "metadata": {},
   "source": [
    "**38- write python program to Retain records with N occurrences of K(Input : test_list = [(4, 5, 5, 4), (5, 4, 3)], K = 5, N = 2 \n",
    "Output : [(4, 5, 5, 4)]\n",
    "Input : test_list = [(4, 5, 5, 4), (5, 4, 3)], K = 5, N = 3 \n",
    "Output : [] )"
   ]
  },
  {
   "cell_type": "code",
   "execution_count": 14,
   "id": "67b06671",
   "metadata": {},
   "outputs": [
    {
     "name": "stdout",
     "output_type": "stream",
     "text": [
      "The original list is : [(4, 5, 6, 4, 4), (4, 4, 3), (4, 4, 4), (3, 4, 9)]\n",
      "Filtered tuples : [(4, 5, 6, 4, 4), (4, 4, 4)]\n"
     ]
    }
   ],
   "source": [
    "test_list = [(4, 5, 6, 4, 4), (4, 4, 3), (4, 4, 4), (3, 4, 9)]\n",
    "print(\"The original list is : \" + str(test_list))\n",
    "K = 4\n",
    "N = 3\n",
    "res = [ele for ele in test_list if sum(cnt == K for cnt in ele) == N]\n",
    "print(\"Filtered tuples : \" + str(res))\n"
   ]
  },
  {
   "cell_type": "markdown",
   "id": "de76f183",
   "metadata": {},
   "source": [
    "**39-write a Python Program to Sort the list according to the column using lambda\n",
    "array = [[1, 3, 3], [2, 1, 2], [3, 2, 1]]\n",
    "Output :\n",
    "Sorted array specific to column 0, [[1, 3, 3], [2, 1, 2], [3, 2, 1]]\n",
    "Sorted array specific to column 1, [[2, 1, 2], [3, 2, 1], [1, 3, 3]]\n",
    "Sorted array specific to column 2, [[3, 2, 1], [2, 1, 2], [1, 3, 3]]"
   ]
  },
  {
   "cell_type": "code",
   "execution_count": 15,
   "id": "dc883308",
   "metadata": {},
   "outputs": [
    {
     "name": "stdout",
     "output_type": "stream",
     "text": [
      "Sorted array specific to column 0, \t\t[['c++', 1983], ['java', 1995], ['python', 1989]]\n",
      "Sorted array specific to column 1, \t\t[['c++', 1983], ['python', 1989], ['java', 1995]]\n"
     ]
    }
   ],
   "source": [
    "def sortarray(array):\n",
    "\t\n",
    "\tfor i in range(len(array[0])):\n",
    "\t\tsortedcolumn = sorted(array, key = lambda x:x[i])\n",
    "\t\tprint(\"Sorted array specific to column {}, \\\n",
    "\t\t{}\".format(i, sortedcolumn))\n",
    "\n",
    "if __name__ == '__main__':\n",
    "\t\n",
    "\tarray = [['java', 1995], ['c++', 1983],\n",
    "\t\t\t['python', 1989]]\n",
    "\n",
    "\tsortarray(array)\n"
   ]
  },
  {
   "cell_type": "code",
   "execution_count": 13,
   "id": "d2e7b31f",
   "metadata": {},
   "outputs": [
    {
     "ename": "SyntaxError",
     "evalue": "invalid syntax (1197306156.py, line 1)",
     "output_type": "error",
     "traceback": [
      "\u001b[1;36m  Cell \u001b[1;32mIn[13], line 1\u001b[1;36m\u001b[0m\n\u001b[1;33m    **40- write a program to Sort Python Dictionaries by Key or Value\u001b[0m\n\u001b[1;37m    ^\u001b[0m\n\u001b[1;31mSyntaxError\u001b[0m\u001b[1;31m:\u001b[0m invalid syntax\n"
     ]
    }
   ],
   "source": [
    "**40- write a program to Sort Python Dictionaries by Key or Value\n",
    "Input:\n",
    "{'ravi': 10, 'rajnish': 9, 'sanjeev': 15, 'yash': 2, 'suraj': 32}\n",
    "\n",
    "Output: \n",
    "{'rajnish': 9, 'ravi': 10, 'sanjeev': 15, 'suraj': 32, 'yash': 2}"
   ]
  },
  {
   "cell_type": "code",
   "execution_count": 16,
   "id": "a96db4a0",
   "metadata": {},
   "outputs": [
    {
     "name": "stdout",
     "output_type": "stream",
     "text": [
      "Original dictionary:\n",
      "{'name1': 'Theodore', 'name2': 'Mathew', 'name4': 'Roxanne', 'name3': 'David'}\n",
      "\n",
      "Sort the said dictionary by key (Ascending order):\n",
      "{'name1': 'Theodore', 'name2': 'Mathew', 'name3': 'David', 'name4': 'Roxanne'}\n",
      "\n",
      "Sort the said dictionary by key (Descending order):\n",
      "{'name4': 'Roxanne', 'name3': 'David', 'name2': 'Mathew', 'name1': 'Theodore'}\n"
     ]
    }
   ],
   "source": [
    "def sort_dict_by_key(d, reverse = False):\n",
    "  return dict(sorted(d.items(), reverse = reverse))\n",
    "students = { 'name1': 'Theodore', 'name2': 'Mathew', 'name4': 'Roxanne', 'name3': 'David' }\n",
    "print(\"Original dictionary:\")\n",
    "print(students)\n",
    "print(\"\\nSort the said dictionary by key (Ascending order):\")\n",
    "print(sort_dict_by_key(students))\n",
    "print(\"\\nSort the said dictionary by key (Descending order):\")\n",
    "print(sort_dict_by_key(students, True))\n"
   ]
  },
  {
   "cell_type": "markdown",
   "id": "ec63c23a",
   "metadata": {},
   "source": [
    "**41-write python program to Remove keys with Values Greater than K ( Including mixed values )\n",
    "nput : test_dict = {‘Gfg’ : 3, ‘is’ : 7, ‘best’ : 10, ‘for’ : 6, ‘geeks’ : ‘CS’},\n",
    "K = 7 \n",
    "Output : {‘Gfg’ : 3, ‘for’ : 6, ‘geeks’ : ‘CS’}"
   ]
  },
  {
   "cell_type": "code",
   "execution_count": 17,
   "id": "e39c3a40",
   "metadata": {},
   "outputs": [
    {
     "name": "stdout",
     "output_type": "stream",
     "text": [
      "The original dictionary is : {'Gfg': 3, 'is': 7, 'best': 10, 'for': 6, 'geeks': 'CS'}\n",
      "The constructed dictionary : {'Gfg': 3, 'for': 6, 'geeks': 'CS'}\n"
     ]
    }
   ],
   "source": [
    "test_dict = {'Gfg' : 3, 'is' : 7, 'best' : 10, 'for' : 6, 'geeks' : 'CS'}\n",
    "print(\"The original dictionary is : \" + str(test_dict))\n",
    "K = 6\n",
    "res = {key : val for key, val in test_dict.items() if not (isinstance(val, int) and (val > K))}\n",
    "print(\"The constructed dictionary : \" + str(res))"
   ]
  },
  {
   "cell_type": "markdown",
   "id": "f143f0fe",
   "metadata": {},
   "source": [
    "**42-Write a Python program to concatenate the following dictionaries to create a new one\n",
    "\n",
    "Sample Dictionary :\n",
    "dic1={1:10, 2:20}\n",
    "dic2={3:30, 4:40}\n",
    "dic3={5:50,6:60}\n",
    "Expected Result : {1: 10, 2: 20, 3: 30, 4: 40, 5: 50, 6: 60}"
   ]
  },
  {
   "cell_type": "code",
   "execution_count": 18,
   "id": "74ffdfea",
   "metadata": {},
   "outputs": [
    {
     "name": "stdout",
     "output_type": "stream",
     "text": [
      "{1: 10, 2: 20, 3: 30, 4: 40, 5: 50, 6: 60}\n"
     ]
    }
   ],
   "source": [
    "dic1={1:10, 2:20}\n",
    "dic2={3:30, 4:40}\n",
    "dic3={5:50,6:60}\n",
    "dic4 = {}\n",
    "for d in (dic1, dic2, dic3): dic4.update(d)\n",
    "print(dic4)"
   ]
  },
  {
   "cell_type": "markdown",
   "id": "fb04c93c",
   "metadata": {},
   "source": [
    "**43-Write a Python program to iterate over dictionaries using for loops"
   ]
  },
  {
   "cell_type": "code",
   "execution_count": 20,
   "id": "6aebc470",
   "metadata": {},
   "outputs": [
    {
     "name": "stdout",
     "output_type": "stream",
     "text": [
      "tasneem corresponds to  1\n",
      "arij corresponds to  2\n",
      "maha corresponds to  3\n"
     ]
    }
   ],
   "source": [
    "d = {'tasneem': 1, 'arij': 2, 'maha': 3} \n",
    "for name_key, value in d.items():\n",
    "     print(name_key, 'corresponds to ', d[name_key]) "
   ]
  },
  {
   "cell_type": "markdown",
   "id": "5f491a9d",
   "metadata": {},
   "source": [
    "**44- Write a Python script to merge two Python dictionaries"
   ]
  },
  {
   "cell_type": "code",
   "execution_count": 21,
   "id": "b8a14028",
   "metadata": {},
   "outputs": [
    {
     "name": "stdout",
     "output_type": "stream",
     "text": [
      "{'a': 100, 'b': 200, 'x': 300, 'y': 200}\n"
     ]
    }
   ],
   "source": [
    "d1 = {'a': 100, 'b': 200}\n",
    "d2 = {'x': 300, 'y': 200}\n",
    "d = d1.copy()\n",
    "d.update(d2)\n",
    "print(d)"
   ]
  },
  {
   "cell_type": "markdown",
   "id": "216fc72d",
   "metadata": {},
   "source": [
    "**45-Write a Python program to get the maximum and minimum values of a dictionary values"
   ]
  },
  {
   "cell_type": "code",
   "execution_count": 22,
   "id": "d6883f5f",
   "metadata": {},
   "outputs": [
    {
     "name": "stdout",
     "output_type": "stream",
     "text": [
      "Maximum Value:  5874\n",
      "Minimum Value:  500\n"
     ]
    }
   ],
   "source": [
    "my_dict = {'x':500, 'y':5874, 'z': 560}\n",
    "\n",
    "key_max = max(my_dict.keys(), key=(lambda k: my_dict[k]))\n",
    "key_min = min(my_dict.keys(), key=(lambda k: my_dict[k]))\n",
    "\n",
    "print('Maximum Value: ',my_dict[key_max])\n",
    "print('Minimum Value: ',my_dict[key_min])"
   ]
  },
  {
   "cell_type": "markdown",
   "id": "b6a53011",
   "metadata": {},
   "source": [
    "**46- Write a Python program to drop empty items from a given dictionary.\n",
    "Original Dictionary:\n",
    "{'c1': 'Red', 'c2': 'Green', 'c3': None}\n",
    "New Dictionary after dropping empty items:\n",
    "{'c1': 'Red', 'c2': 'Green'}"
   ]
  },
  {
   "cell_type": "code",
   "execution_count": 23,
   "id": "b5c6fecf",
   "metadata": {},
   "outputs": [
    {
     "name": "stdout",
     "output_type": "stream",
     "text": [
      "Original Dictionary:\n",
      "{'c1': 'Red', 'c2': 'Green', 'c3': None}\n",
      "New Dictionary after dropping empty items:\n",
      "{'c1': 'Red', 'c2': 'Green'}\n"
     ]
    }
   ],
   "source": [
    "dict1 = {'c1': 'Red', 'c2': 'Green', 'c3':None}\n",
    "print(\"Original Dictionary:\")\n",
    "print(dict1)\n",
    "print(\"New Dictionary after dropping empty items:\")\n",
    "dict1 = {key:value for (key, value) in dict1.items() if value is not None}\n",
    "print(dict1)"
   ]
  },
  {
   "cell_type": "markdown",
   "id": "46d718c7",
   "metadata": {},
   "source": [
    "**47-Write a Python program to create a tuple of numbers and print one item"
   ]
  },
  {
   "cell_type": "code",
   "execution_count": 24,
   "id": "13216ff5",
   "metadata": {},
   "outputs": [
    {
     "name": "stdout",
     "output_type": "stream",
     "text": [
      "(5, 10, 15, 20, 25)\n",
      "(5,)\n"
     ]
    }
   ],
   "source": [
    "tuplex = 5, 10, 15, 20, 25\n",
    "print(tuplex)\n",
    "tuplex = 5,\n",
    "print(tuplex)"
   ]
  },
  {
   "cell_type": "markdown",
   "id": "2be5b56b",
   "metadata": {},
   "source": [
    "**48-Write a Python program to unpack a tuple into several variables"
   ]
  },
  {
   "cell_type": "code",
   "execution_count": 26,
   "id": "595f44be",
   "metadata": {},
   "outputs": [
    {
     "name": "stdout",
     "output_type": "stream",
     "text": [
      "(4, 8, 3)\n",
      "15\n"
     ]
    },
    {
     "ename": "ValueError",
     "evalue": "not enough values to unpack (expected 4, got 3)",
     "output_type": "error",
     "traceback": [
      "\u001b[1;31m---------------------------------------------------------------------------\u001b[0m",
      "\u001b[1;31mValueError\u001b[0m                                Traceback (most recent call last)",
      "Cell \u001b[1;32mIn[26], line 5\u001b[0m\n\u001b[0;32m      3\u001b[0m n1, n2, n3 \u001b[38;5;241m=\u001b[39m tuplex\n\u001b[0;32m      4\u001b[0m \u001b[38;5;28mprint\u001b[39m(n1 \u001b[38;5;241m+\u001b[39m n2 \u001b[38;5;241m+\u001b[39m n3) \n\u001b[1;32m----> 5\u001b[0m n1, n2, n3, n4 \u001b[38;5;241m=\u001b[39m tuplex\n",
      "\u001b[1;31mValueError\u001b[0m: not enough values to unpack (expected 4, got 3)"
     ]
    }
   ],
   "source": [
    "tuplex = 4, 8, 3 \n",
    "print(tuplex)\n",
    "n1, n2, n3 = tuplex\n",
    "print(n1 + n2 + n3) \n",
    "n1, n2, n3, n4 = tuplex "
   ]
  },
  {
   "cell_type": "markdown",
   "id": "392388a7",
   "metadata": {},
   "source": [
    "**49-Write a Python program to add an item to a tuple"
   ]
  },
  {
   "cell_type": "code",
   "execution_count": 27,
   "id": "54cc092e",
   "metadata": {},
   "outputs": [
    {
     "name": "stdout",
     "output_type": "stream",
     "text": [
      "(4, 6, 2, 8, 3, 1)\n",
      "(4, 6, 2, 8, 3, 1, 9)\n",
      "(4, 6, 2, 8, 3, 15, 20, 25, 4, 6, 2, 8, 3)\n",
      "(4, 6, 2, 8, 3, 15, 20, 25, 4, 6, 2, 8, 3, 30)\n"
     ]
    }
   ],
   "source": [
    "tuplex = (4, 6, 2, 8, 3, 1) \n",
    "print(tuplex)\n",
    "tuplex = tuplex + (9,)\n",
    "print(tuplex)\n",
    "tuplex = tuplex[:5] + (15, 20, 25) + tuplex[:5]\n",
    "print(tuplex)\n",
    "listx = list(tuplex) \n",
    "listx.append(30)\n",
    "tuplex = tuple(listx)\n",
    "print(tuplex)\n"
   ]
  },
  {
   "cell_type": "markdown",
   "id": "3e8fd124",
   "metadata": {},
   "source": [
    "**50-Write a Python program to convert a tuple to a string"
   ]
  },
  {
   "cell_type": "code",
   "execution_count": 29,
   "id": "92a71ddc",
   "metadata": {},
   "outputs": [
    {
     "name": "stdout",
     "output_type": "stream",
     "text": [
      "tasneem\n"
     ]
    }
   ],
   "source": [
    "tup = ('t', 'a', 's', 'n', 'e', 'e', 'm')\n",
    "str =  ''.join(tup)\n",
    "print(str)"
   ]
  },
  {
   "cell_type": "markdown",
   "id": "f4f64ef4",
   "metadata": {},
   "source": [
    "**51-Write a Python program to convert a list to a tuple"
   ]
  },
  {
   "cell_type": "code",
   "execution_count": 30,
   "id": "210d56d3",
   "metadata": {},
   "outputs": [
    {
     "name": "stdout",
     "output_type": "stream",
     "text": [
      "[5, 10, 7, 4, 15, 3]\n",
      "(5, 10, 7, 4, 15, 3)\n"
     ]
    }
   ],
   "source": [
    "listx = [5, 10, 7, 4, 15, 3]\n",
    "print(listx)\n",
    "tuplex = tuple(listx)\n",
    "print(tuplex)"
   ]
  },
  {
   "cell_type": "markdown",
   "id": "b1e00ef7",
   "metadata": {},
   "source": [
    "**52-Write a Python program to reverse a tuple"
   ]
  },
  {
   "cell_type": "code",
   "execution_count": 31,
   "id": "f45bfdc7",
   "metadata": {},
   "outputs": [
    {
     "name": "stdout",
     "output_type": "stream",
     "text": [
      "('M', 'E', 'E', 'N', 'S', 'A', 'T')\n",
      "(20, 15, 10, 5)\n"
     ]
    }
   ],
   "source": [
    "x = (\"TASNEEM\")\n",
    "y = reversed(x)\n",
    "print(tuple(y))\n",
    "x = (5, 10, 15, 20)\n",
    "y = reversed(x)\n",
    "print(tuple(y))"
   ]
  },
  {
   "cell_type": "markdown",
   "id": "3cd347d1",
   "metadata": {},
   "source": [
    "**53-Write a Python program to replace the last value of tuples in a list.\n",
    "Sample list: [(10, 20, 40), (40, 50, 60), (70, 80, 90)]\n",
    "Expected Output: [(10, 20, 100), (40, 50, 100), (70, 80, 100)]"
   ]
  },
  {
   "cell_type": "code",
   "execution_count": 32,
   "id": "3c4a2a4c",
   "metadata": {},
   "outputs": [
    {
     "name": "stdout",
     "output_type": "stream",
     "text": [
      "[(10, 20, 100), (40, 50, 100), (70, 80, 100)]\n"
     ]
    }
   ],
   "source": [
    "l = [(10, 20, 40), (40, 50, 60), (70, 80, 90)]\n",
    "print([t[:-1] + (100,) for t in l])"
   ]
  },
  {
   "cell_type": "markdown",
   "id": "76bb7b39",
   "metadata": {},
   "source": [
    "**54-Write a Python program to convert a given string list to a tuple\n",
    "Original string: python 3.0\n",
    "<class 'str'>\n",
    "Convert the said string to a tuple:\n",
    "('p', 'y', 't', 'h', 'o', 'n', '3', '.', '0')"
   ]
  },
  {
   "cell_type": "code",
   "execution_count": 34,
   "id": "51951937",
   "metadata": {},
   "outputs": [
    {
     "name": "stdout",
     "output_type": "stream",
     "text": [
      "Original string:\n",
      "python 3.0\n",
      "<class 'str'>\n",
      "Convert the said string to a tuple:\n",
      "('p', 'y', 't', 'h', 'o', 'n', '3', '.', '0')\n",
      "<class 'tuple'>\n"
     ]
    }
   ],
   "source": [
    "def string_list_to_tuple(str1):\n",
    "    result = tuple(x for x in str1 if not x.isspace()) \n",
    "    return result\n",
    "str1 = \"python 3.0\"\n",
    "print(\"Original string:\")\n",
    "print(str1)\n",
    "print(type(str1))\n",
    "print(\"Convert the said string to a tuple:\") \n",
    "print(string_list_to_tuple(str1))\n",
    "print(type(string_list_to_tuple(str1)))"
   ]
  },
  {
   "cell_type": "markdown",
   "id": "5a1d5d97",
   "metadata": {},
   "source": [
    "**55-Write a Python program to calculate the average value of the numbers in a given tuple of tuples"
   ]
  },
  {
   "cell_type": "code",
   "execution_count": 35,
   "id": "834e7992",
   "metadata": {},
   "outputs": [
    {
     "name": "stdout",
     "output_type": "stream",
     "text": [
      "Original Tuple: \n",
      "((10, 10, 10, 12), (30, 45, 56, 45), (81, 80, 39, 32), (1, 2, 3, 4))\n",
      "\n",
      "Average value of the numbers of the said tuple of tuples:\n",
      " [30.5, 34.25, 27.0, 23.25]\n",
      "\n",
      "Original Tuple: \n",
      "((1, 1, -5), (30, -15, 56), (81, -60, -39), (-10, 2, 3))\n",
      "\n",
      "Average value of the numbers of the said tuple of tuples:\n",
      " [25.5, -18.0, 3.75]\n"
     ]
    }
   ],
   "source": [
    "def average_tuple(nums):\n",
    "    result = [sum(x) / len(x) for x in zip(*nums)]\n",
    "    return result\n",
    "\n",
    "nums = ((10, 10, 10, 12), (30, 45, 56, 45), (81, 80, 39, 32), (1, 2, 3, 4))\n",
    "print (\"Original Tuple: \")\n",
    "print(nums)\n",
    "print(\"\\nAverage value of the numbers of the said tuple of tuples:\\n\",average_tuple(nums))\n",
    "\n",
    "nums = ((1, 1, -5), (30, -15, 56), (81, -60, -39), (-10, 2, 3))\n",
    "print (\"\\nOriginal Tuple: \")\n",
    "print(nums)\n",
    "print(\"\\nAverage value of the numbers of the said tuple of tuples:\\n\",average_tuple(nums))\n"
   ]
  },
  {
   "cell_type": "markdown",
   "id": "51edab9c",
   "metadata": {},
   "source": [
    "**56-Write a Python program to add member(s) to a set."
   ]
  },
  {
   "cell_type": "code",
   "execution_count": 36,
   "id": "2b65df79",
   "metadata": {},
   "outputs": [
    {
     "name": "stdout",
     "output_type": "stream",
     "text": [
      "set()\n",
      "\n",
      "Add single element:\n",
      "{'Red'}\n",
      "\n",
      "Add multiple items:\n",
      "{'Blue', 'Red', 'Green'}\n"
     ]
    }
   ],
   "source": [
    "color_set = set()\n",
    "print(color_set)\n",
    "print(\"\\nAdd single element:\")\n",
    "color_set.add(\"Red\")\n",
    "print(color_set)\n",
    "print(\"\\nAdd multiple items:\")\n",
    "color_set.update([\"Blue\", \"Green\"])\n",
    "print(color_set)"
   ]
  },
  {
   "cell_type": "markdown",
   "id": "965590cc",
   "metadata": {},
   "source": [
    "**57-Write a Python program to remove an item from a set if it is present in the set."
   ]
  },
  {
   "cell_type": "code",
   "execution_count": 38,
   "id": "866bab28",
   "metadata": {},
   "outputs": [
    {
     "name": "stdout",
     "output_type": "stream",
     "text": [
      "{'cherry', 'apple'}\n"
     ]
    }
   ],
   "source": [
    "thisset = {\"apple\", \"banana\", \"cherry\"}\n",
    "\n",
    "thisset.remove(\"banana\")\n",
    "\n",
    "print(thisset)"
   ]
  },
  {
   "cell_type": "markdown",
   "id": "2b7cfed1",
   "metadata": {},
   "source": [
    "**58-Write a Python program to create an intersection,union,difference and symmetric difference of sets"
   ]
  },
  {
   "cell_type": "code",
   "execution_count": 39,
   "id": "7f94b7fe",
   "metadata": {},
   "outputs": [
    {
     "name": "stdout",
     "output_type": "stream",
     "text": [
      "Union : {0, 1, 2, 3, 4, 5, 6, 8}\n",
      "Intersection : {2, 4}\n",
      "Difference : {0, 8, 6}\n",
      "Symmetric difference : {0, 1, 3, 5, 6, 8}\n"
     ]
    }
   ],
   "source": [
    "A = {0, 2, 4, 6, 8};\n",
    "B = {1, 2, 3, 4, 5};\n",
    "print(\"Union :\", A | B)\n",
    "print(\"Intersection :\", A & B)\n",
    "print(\"Difference :\", A - B)\n",
    "print(\"Symmetric difference :\", A ^ B)"
   ]
  },
  {
   "cell_type": "markdown",
   "id": "b94931e2",
   "metadata": {},
   "source": [
    "**59-Write a Python program to find the maximum and minimum values in a set"
   ]
  },
  {
   "cell_type": "code",
   "execution_count": 40,
   "id": "203f9600",
   "metadata": {},
   "outputs": [
    {
     "name": "stdout",
     "output_type": "stream",
     "text": [
      "Original set elements:\n",
      "{2, 3, 20, 5, 10, 15}\n",
      "<class 'set'>\n",
      "\n",
      "Maximum value of the said set:\n",
      "20\n",
      "\n",
      "Minimum value of the said set:\n",
      "2\n"
     ]
    }
   ],
   "source": [
    "setn = {5, 10, 3, 15, 2, 20}\n",
    "print(\"Original set elements:\")\n",
    "print(setn)\n",
    "print(type(setn))\n",
    "print(\"\\nMaximum value of the said set:\")\n",
    "print(max(setn))\n",
    "print(\"\\nMinimum value of the said set:\")\n",
    "print(min(setn))"
   ]
  },
  {
   "cell_type": "markdown",
   "id": "255fd554",
   "metadata": {},
   "source": [
    "**60- Write a Python program that finds all pairs of elements in a list whose sum is equal to a given value."
   ]
  },
  {
   "cell_type": "code",
   "execution_count": 44,
   "id": "c2d94e1f",
   "metadata": {},
   "outputs": [
    {
     "name": "stdout",
     "output_type": "stream",
     "text": [
      "[(5, 7), (3, 9)]\n"
     ]
    }
   ],
   "source": [
    "def findPairs(lst, K):\n",
    "    res = []\n",
    "    while lst:\n",
    "        num = lst.pop()\n",
    "        diff = K - num\n",
    "        if diff in lst:\n",
    "            res.append((diff, num))\n",
    "         \n",
    "    res.reverse()\n",
    "    return res\n",
    "lst = [1, 5, 3, 7, 9]\n",
    "K = 12\n",
    "print(findPairs(lst, K))"
   ]
  },
  {
   "cell_type": "code",
   "execution_count": null,
   "id": "3df1eabe",
   "metadata": {},
   "outputs": [],
   "source": []
  }
 ],
 "metadata": {
  "kernelspec": {
   "display_name": "Python 3 (ipykernel)",
   "language": "python",
   "name": "python3"
  },
  "language_info": {
   "codemirror_mode": {
    "name": "ipython",
    "version": 3
   },
   "file_extension": ".py",
   "mimetype": "text/x-python",
   "name": "python",
   "nbconvert_exporter": "python",
   "pygments_lexer": "ipython3",
   "version": "3.11.3"
  }
 },
 "nbformat": 4,
 "nbformat_minor": 5
}
